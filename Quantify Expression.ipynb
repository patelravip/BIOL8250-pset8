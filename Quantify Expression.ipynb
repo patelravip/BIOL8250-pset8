{
 "cells": [
  {
   "cell_type": "code",
   "execution_count": 2,
   "metadata": {
    "collapsed": true
   },
   "outputs": [],
   "source": [
    "from __future__ import division\n",
    "import os\n",
    "import sys"
   ]
  },
  {
   "cell_type": "code",
   "execution_count": 10,
   "metadata": {
    "collapsed": false
   },
   "outputs": [],
   "source": [
    "## Find all sample .fastq.gz files\n",
    "ls = filter(lambda x: '.fastq.gz' in x, os.listdir('.'))\n",
    "samples = [x.split('.',1)[0] for x in ls]"
   ]
  },
  {
   "cell_type": "code",
   "execution_count": 11,
   "metadata": {
    "collapsed": false
   },
   "outputs": [
    {
     "name": "stdout",
     "output_type": "stream",
     "text": [
      "Quantifying ERR458885... Done.\n",
      "Quantifying ERR458878... Done.\n",
      "Quantifying ERR458507... Done.\n",
      "Quantifying ERR458528... Done.\n",
      "Quantifying ERR458892... Done.\n",
      "Quantifying ERR458500... Done.\n",
      "Quantifying ERR458514... Done.\n",
      "Quantifying ERR458899... Done.\n",
      "Quantifying ERR458521... Done.\n",
      "Quantifying ERR458493... Done.\n"
     ]
    }
   ],
   "source": [
    "for s in samples:\n",
    "    print 'Quantifying {}...'.format(s),\n",
    "    try:\n",
    "        os.makedirs(s)\n",
    "    except OSError:\n",
    "        pass\n",
    "    cmd = 'kallisto quant -i sacCer/sacCer.cdna.all.idx -o {} --single -l 180 -s 20 {}.fastq.gz'.format(s,s)\n",
    "    os.system(cmd)\n",
    "    print 'Done.'"
   ]
  },
  {
   "cell_type": "code",
   "execution_count": null,
   "metadata": {
    "collapsed": true
   },
   "outputs": [],
   "source": []
  }
 ],
 "metadata": {
  "kernelspec": {
   "display_name": "Python 2",
   "language": "python",
   "name": "python2"
  },
  "language_info": {
   "codemirror_mode": {
    "name": "ipython",
    "version": 2
   },
   "file_extension": ".py",
   "mimetype": "text/x-python",
   "name": "python",
   "nbconvert_exporter": "python",
   "pygments_lexer": "ipython2",
   "version": "2.7.6"
  },
  "widgets": {
   "state": {},
   "version": "1.1.2"
  }
 },
 "nbformat": 4,
 "nbformat_minor": 0
}
